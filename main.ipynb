{
 "cells": [
  {
   "cell_type": "code",
   "execution_count": 1,
   "metadata": {},
   "outputs": [
    {
     "name": "stderr",
     "output_type": "stream",
     "text": [
      "2022-12-27 22:48:29.869659: I tensorflow/core/platform/cpu_feature_guard.cc:193] This TensorFlow binary is optimized with oneAPI Deep Neural Network Library (oneDNN) to use the following CPU instructions in performance-critical operations:  AVX2 AVX_VNNI FMA\n",
      "To enable them in other operations, rebuild TensorFlow with the appropriate compiler flags.\n",
      "2022-12-27 22:48:30.260917: I tensorflow/core/util/port.cc:104] oneDNN custom operations are on. You may see slightly different numerical results due to floating-point round-off errors from different computation orders. To turn them off, set the environment variable `TF_ENABLE_ONEDNN_OPTS=0`.\n",
      "2022-12-27 22:48:30.293527: W tensorflow/compiler/xla/stream_executor/platform/default/dso_loader.cc:64] Could not load dynamic library 'libcudart.so.11.0'; dlerror: libcudart.so.11.0: cannot open shared object file: No such file or directory\n",
      "2022-12-27 22:48:30.293559: I tensorflow/compiler/xla/stream_executor/cuda/cudart_stub.cc:29] Ignore above cudart dlerror if you do not have a GPU set up on your machine.\n",
      "2022-12-27 22:48:31.512289: W tensorflow/compiler/xla/stream_executor/platform/default/dso_loader.cc:64] Could not load dynamic library 'libnvinfer.so.7'; dlerror: libnvinfer.so.7: cannot open shared object file: No such file or directory\n",
      "2022-12-27 22:48:31.512398: W tensorflow/compiler/xla/stream_executor/platform/default/dso_loader.cc:64] Could not load dynamic library 'libnvinfer_plugin.so.7'; dlerror: libnvinfer_plugin.so.7: cannot open shared object file: No such file or directory\n",
      "2022-12-27 22:48:31.512406: W tensorflow/compiler/tf2tensorrt/utils/py_utils.cc:38] TF-TRT Warning: Cannot dlopen some TensorRT libraries. If you would like to use Nvidia GPU with TensorRT, please make sure the missing libraries mentioned above are installed properly.\n"
     ]
    }
   ],
   "source": [
    "# import os\n",
    "# os.environ['TF_CPP_MIN_LOG_LEVEL'] = '2'\n",
    "\n",
    "import tensorflow as tf\n",
    "from tensorflow import keras\n",
    "from keras import backend as K\n",
    "import numpy as np\n",
    "import matplotlib.pyplot as plt\n",
    "import sys,os\n",
    "from importlib import reload"
   ]
  },
  {
   "cell_type": "code",
   "execution_count": 2,
   "metadata": {},
   "outputs": [],
   "source": [
    "fit_verbosity = 1"
   ]
  },
  {
   "cell_type": "code",
   "execution_count": 3,
   "metadata": {},
   "outputs": [],
   "source": [
    "(x_train, y_train), (x_test, y_test) = keras.datasets.mnist.load_data()"
   ]
  },
  {
   "cell_type": "code",
   "execution_count": 4,
   "metadata": {},
   "outputs": [
    {
     "name": "stdout",
     "output_type": "stream",
     "text": [
      "x_train shape: (60000, 28, 28, 1) y_train shape: (60000, 10)\n"
     ]
    }
   ],
   "source": [
    "#Our data are not vectors, but matrices. We need to reshape them to vectors. We add 1 dimesnion to the end of the shape.\n",
    "x_train = x_train.reshape(-1, 28, 28, 1)\n",
    "x_test = x_test.reshape(-1, 28, 28, 1)\n",
    "\n",
    "#Y is just a number, but we need to convert it to a vector with 10 elements. The element with index equal to the number is 1, the rest are 0.\n",
    "y_train = keras.utils.to_categorical(y_train, 10)\n",
    "y_test = keras.utils.to_categorical(y_test, 10)\n",
    "print(\"x_train shape:\", x_train.shape, \"y_train shape:\", y_train.shape)\n",
    "#We print the first vector y to check if it is correct."
   ]
  },
  {
   "cell_type": "code",
   "execution_count": 6,
   "metadata": {},
   "outputs": [
    {
     "name": "stdout",
     "output_type": "stream",
     "text": [
      "[1. 0. 0. 0. 0. 0. 0. 0. 0. 0.]\n"
     ]
    }
   ],
   "source": []
  },
  {
   "cell_type": "code",
   "execution_count": 7,
   "metadata": {},
   "outputs": [],
   "source": [
    "#Now we can normalize the data. We divide by 255 because the values are between 0 and 255.\n",
    "x_train = x_train / 255.0\n",
    "x_test = x_test / 255.0"
   ]
  },
  {
   "cell_type": "code",
   "execution_count": 34,
   "metadata": {},
   "outputs": [],
   "source": [
    "#We can now construct the model. We use the Kerass Sequential API.\n",
    "\n",
    "model = keras.Sequential()\n",
    "\n",
    "#First we are going to do Conv2D then pooling then flatten.\n",
    "#For the first test we use padding='valid' and strides=(1, 1) as classic Conv2D and without dropout.\n",
    "model.add(keras.layers.Conv2D(8, (3, 3), padding='valid',strides=(1, 1), input_shape=(28, 28, 1)))\n",
    "model.activation = 'relu'\n",
    "model.add(keras.layers.MaxPooling2D(pool_size=(2, 2)))\n",
    "# model.add(keras.layers.Dropout(0.1))\n",
    "\n",
    "model.add(keras.layers.Conv2D(16, (3, 3), padding='valid',strides=(1, 1)))\n",
    "model.activation = 'relu'\n",
    "model.add(keras.layers.MaxPooling2D(pool_size=(2, 2)))\n",
    "# model.add(keras.layers.Dropout(0.1))\n",
    "\n",
    "model.add(keras.layers.Flatten())\n",
    "\n",
    "#we add a dense layer with 10 neurons\n",
    "model.add(keras.layers.Dense(10))\n",
    "model.activation = 'relu'\n",
    "# model.add(keras.layers.Dropout(0.2))\n",
    "\n",
    "#We finallys add a dense layer with 10 neurons and softmax activation to have the probabilities for each class.\n",
    "model.add(keras.layers.Dense(10, activation='softmax'))\n"
   ]
  },
  {
   "cell_type": "code",
   "execution_count": 35,
   "metadata": {},
   "outputs": [],
   "source": [
    "#We can now compile the model by adding the loss function and the optimizers : \n",
    "\n",
    "model.compile(optimizer='adam',loss='mae',metrics=['accuracy'])"
   ]
  },
  {
   "cell_type": "code",
   "execution_count": 36,
   "metadata": {},
   "outputs": [
    {
     "name": "stdout",
     "output_type": "stream",
     "text": [
      "Model: \"sequential_6\"\n",
      "_________________________________________________________________\n",
      " Layer (type)                Output Shape              Param #   \n",
      "=================================================================\n",
      " conv2d_12 (Conv2D)          (None, 26, 26, 8)         80        \n",
      "                                                                 \n",
      " max_pooling2d_12 (MaxPoolin  (None, 13, 13, 8)        0         \n",
      " g2D)                                                            \n",
      "                                                                 \n",
      " conv2d_13 (Conv2D)          (None, 11, 11, 16)        1168      \n",
      "                                                                 \n",
      " max_pooling2d_13 (MaxPoolin  (None, 5, 5, 16)         0         \n",
      " g2D)                                                            \n",
      "                                                                 \n",
      " flatten_6 (Flatten)         (None, 400)               0         \n",
      "                                                                 \n",
      " dense_12 (Dense)            (None, 10)                4010      \n",
      "                                                                 \n",
      " dense_13 (Dense)            (None, 10)                110       \n",
      "                                                                 \n",
      "=================================================================\n",
      "Total params: 5,368\n",
      "Trainable params: 5,368\n",
      "Non-trainable params: 0\n",
      "_________________________________________________________________\n"
     ]
    }
   ],
   "source": [
    "#You want to describe your mode, execute the following line :\n",
    "model.summary()"
   ]
  },
  {
   "cell_type": "code",
   "execution_count": 37,
   "metadata": {},
   "outputs": [
    {
     "name": "stdout",
     "output_type": "stream",
     "text": [
      "Learning rate is: 1e-04\n",
      "Epoch 1/10\n",
      "600/600 [==============================] - 6s 9ms/step - loss: 0.1408 - accuracy: 0.3292 - val_loss: 0.0891 - val_accuracy: 0.6234\n",
      "Epoch 2/10\n",
      "600/600 [==============================] - 4s 7ms/step - loss: 0.0636 - accuracy: 0.7325 - val_loss: 0.0424 - val_accuracy: 0.8224\n",
      "Epoch 3/10\n",
      "600/600 [==============================] - 5s 8ms/step - loss: 0.0370 - accuracy: 0.8426 - val_loss: 0.0302 - val_accuracy: 0.8687\n",
      "Epoch 4/10\n",
      "600/600 [==============================] - 5s 8ms/step - loss: 0.0285 - accuracy: 0.8752 - val_loss: 0.0246 - val_accuracy: 0.8916\n",
      "Epoch 5/10\n",
      "600/600 [==============================] - 5s 9ms/step - loss: 0.0243 - accuracy: 0.8910 - val_loss: 0.0217 - val_accuracy: 0.9046\n",
      "Epoch 6/10\n",
      "600/600 [==============================] - 5s 9ms/step - loss: 0.0216 - accuracy: 0.9018 - val_loss: 0.0195 - val_accuracy: 0.9124\n",
      "Epoch 7/10\n",
      "600/600 [==============================] - 6s 10ms/step - loss: 0.0197 - accuracy: 0.9103 - val_loss: 0.0183 - val_accuracy: 0.9155\n",
      "Epoch 8/10\n",
      "600/600 [==============================] - 6s 11ms/step - loss: 0.0183 - accuracy: 0.9161 - val_loss: 0.0170 - val_accuracy: 0.9220\n",
      "Epoch 9/10\n",
      "600/600 [==============================] - 6s 10ms/step - loss: 0.0172 - accuracy: 0.9208 - val_loss: 0.0162 - val_accuracy: 0.9248\n",
      "Epoch 10/10\n",
      "600/600 [==============================] - 6s 10ms/step - loss: 0.0162 - accuracy: 0.9254 - val_loss: 0.0152 - val_accuracy: 0.9292\n"
     ]
    }
   ],
   "source": [
    "#We must now fit the model : \n",
    "K.set_value(model.optimizer.learning_rate, 0.0001)\n",
    "print(\"Learning rate is:\", model.optimizer.learning_rate.numpy())\n",
    "\n",
    "history = model.fit(\n",
    "    x_train, y_train,\n",
    "    validation_data=(x_test,y_test),\n",
    "    batch_size=100, \n",
    "    epochs=10\n",
    ")"
   ]
  },
  {
   "cell_type": "code",
   "execution_count": 43,
   "metadata": {},
   "outputs": [
    {
     "data": {
      "image/png": "[encoded data removed]",
      "text/plain": [
       "<Figure size 640x480 with 1 Axes>"
      ]
     },
     "metadata": {},
     "output_type": "display_data"
    }
   ],
   "source": [
    "plt.plot(history.history['accuracy'])\n",
    "plt.title('model accuracy')\n",
    "plt.ylabel('accuracy')\n",
    "plt.xlabel('epoch')\n",
    "plt.legend(['train'], loc='upper left')\n",
    "plt.show()"
   ]
  },
  {
   "cell_type": "code",
   "execution_count": null,
   "metadata": {},
   "outputs": [],
   "source": []
  }
 ],
 "metadata": {
  "kernelspec": {
   "display_name": "Python 3",
   "language": "python",
   "name": "python3"
  },
  "language_info": {
   "codemirror_mode": {
    "name": "ipython",
    "version": 3
   },
   "file_extension": ".py",
   "mimetype": "text/x-python",
   "name": "python",
   "nbconvert_exporter": "python",
   "pygments_lexer": "ipython3",
   "version": "3.10.6"
  },
  "vscode": {
   "interpreter": {
    "hash": "31f2aee4e71d21fbe5cf8b01ff0e069b9275f58929596ceb00d14d90e3e16cd6"
   }
  }
 },
 "nbformat": 4,
 "nbformat_minor": 4
}
